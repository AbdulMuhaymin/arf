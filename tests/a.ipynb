{
 "cells": [
  {
   "cell_type": "code",
   "execution_count": 5,
   "metadata": {},
   "outputs": [
    {
     "name": "stdout",
     "output_type": "stream",
     "text": [
      "Heat of formation is -2.5424 eV = -0.18686 Ry\n"
     ]
    },
    {
     "data": {
      "application/vnd.jupyter.widget-view+json": {
       "model_id": "1c6ba739ea3d4ed088ec9a94f57e79c5",
       "version_major": 2,
       "version_minor": 0
      },
      "text/plain": [
       "interactive(children=(FloatSlider(value=0.0, description='Delta_mu_Zn', layout=Layout(width='30%'), max=0.0, m…"
      ]
     },
     "metadata": {},
     "output_type": "display_data"
    },
    {
     "data": {
      "text/plain": [
       "<function __main__.plot_ctl(Delta_mu_Zn)>"
      ]
     },
     "execution_count": 5,
     "metadata": {},
     "output_type": "execute_result"
    }
   ],
   "source": [
    "import numpy as np\n",
    "import matplotlib.pyplot as plt\n",
    "from matplotlib.ticker import MultipleLocator\n",
    "from ipywidgets import widgets\n",
    "\n",
    "eV = 13.6057039763 # Ry to eV conversion factor\n",
    "\n",
    "E_pristine = -9924.37832688*eV\n",
    "E_defect = {2: [-137418.71009540025, -137425.51438061325, 0], 3: [-137418.64808169, -137425.4488249301, 0], 4: [-137418.5914792403, -137425.38965345136, 0], 5: [-137418.5396254534, -137425.3359133697, 0], 6: [-137418.49195229122, -137425.2868386839, 0], 7: [-137418.44797321368, -137425.24180693307, 0], 8: [-137418.40726984543, -137425.20030599844, 0]}\n",
    "\n",
    "E_VBM_pristine = 5.5452 # eV\n",
    "E_pot_align = [0, 0, 0] # assuming no potential alignment term for now\n",
    "E_g = 2.15 # band gap in eV\n",
    "\n",
    "n_Cu, mu_Cu_0 = 1, -486.887986*eV\n",
    "n_Zn, mu_Zn_0 = -1, -243.722726*eV\n",
    "n_S, mu_S_0 = 1, -66.2272321*eV\n",
    "\n",
    "def E_q_corr(q, alpha = 2.8373, epsilon = 8.9, L = 10.88442):\n",
    "    return (14.39952*alpha*q*q)/(2*epsilon*L)\n",
    "\n",
    "Delta_H_f = E_pristine/32 - mu_Zn_0 - mu_S_0\n",
    "print(f\"Heat of formation is {Delta_H_f:.5} eV = {Delta_H_f/eV:.5} Ry\")\n",
    "\n",
    "def E_f(U, Delta_mu_Zn, E_F, q):\n",
    "    E = E_defect[U][q+1] - E_pristine + E_q_corr(q)\n",
    "    mu = -n_Zn*(Delta_mu_Zn) - n_Cu*(mu_Cu_0-mu_Zn_0) - n_S*(mu_S_0-mu_Zn_0)\n",
    "    slope = q*(E_F + E_VBM_pristine + E_pot_align[q+1])\n",
    "    return E + mu + slope\n",
    "\n",
    "def plot_ctl(Delta_mu_Zn):\n",
    "    E_F = np.arange(0, E_g, 0.1)\n",
    "\n",
    "    my_dpi = 99\n",
    "    fig, ax = plt.subplots(figsize=(1200/my_dpi, 800/my_dpi), dpi=my_dpi)\n",
    "\n",
    "    plt.xlim(0, E_g - 0.05)\n",
    "    plt.xlabel('Fermi level (eV)', fontsize=20)\n",
    "    plt.ylabel('Formation energy (eV)', fontsize=20)\n",
    "    \n",
    "    colors = plt.cm.viridis(np.linspace(0, 1, len(E_defect)))\n",
    "\n",
    "    for i, U in enumerate(E_defect.keys()):\n",
    "        for q in range(-1, 2):\n",
    "            plt.plot(E_F, E_f(U, Delta_mu_Zn, E_F, q), linewidth=2, color=colors[i], label=f'U={U} eV' if q == -1 else \"\")\n",
    "    \n",
    "    plt.tick_params(axis='both', which='major', labelsize=15)\n",
    "    plt.grid(alpha=0.3)\n",
    "    plt.gca().xaxis.set_major_locator(MultipleLocator(0.2))\n",
    "    plt.legend(fontsize=15, loc='upper left')\n",
    "    plt.title(r'Defect formation energy diagram for $\\mathrm{Co_{Zn}}$ in ZnS (relaxed)', fontsize=20)\n",
    "    plt.show()\n",
    "\n",
    "slider = widgets.FloatSlider(min=Delta_H_f, max=0, step=0.01, value=0, description=\"Delta_mu_Zn\")\n",
    "slider.layout.width = '30%'\n",
    "widgets.interact(plot_ctl, Delta_mu_Zn=slider)"
   ]
  },
  {
   "cell_type": "code",
   "execution_count": 6,
   "metadata": {},
   "outputs": [
    {
     "name": "stdout",
     "output_type": "stream",
     "text": [
      "{2: [-137418.71009540025, -137425.51438061325, 0], 3: [-137418.64808169, -137425.4488249301, 0], 4: [-137418.5914792403, -137425.38965345136, 0], 5: [-137418.5396254534, -137425.3359133697, 0], 6: [-137418.49195229122, -137425.2868386839, 0], 7: [-137418.44797321368, -137425.24180693307, 0], 8: [-137418.40726984543, -137425.20030599844, 0]}\n"
     ]
    }
   ],
   "source": [
    "import re\n",
    "\n",
    "# Your text data\n",
    "data = \"\"\"\n",
    "q0/2/1.Cu_vac_in_ZnS.scf.q0.unrlxd.U2.out:!    total energy              =  -10100.58094899 Ry\n",
    "q0/3/1.Cu_vac_in_ZnS.scf.q0.unrlxd.U3.out:!    total energy              =  -10100.57613074 Ry\n",
    "q0/4/1.Cu_vac_in_ZnS.scf.q0.unrlxd.U4.out:!    total energy              =  -10100.57178172 Ry\n",
    "q0/5/1.Cu_vac_in_ZnS.scf.q0.unrlxd.U5.out:!    total energy              =  -10100.56783190 Ry\n",
    "q0/6/1.Cu_vac_in_ZnS.scf.q0.unrlxd.U6.out:!    total energy              =  -10100.56422498 Ry\n",
    "q0/7/1.Cu_vac_in_ZnS.scf.q0.unrlxd.U7.out:!    total energy              =  -10100.56091521 Ry\n",
    "q0/8/1.Cu_vac_in_ZnS.scf.q0.unrlxd.U8.out:!    total energy              =  -10100.55786495 Ry\n",
    "qn1/2/1.Cu_vac_in_ZnS.scf.qn1.unrlxd.U2.out:!    total energy              =  -10100.08084365 Ry\n",
    "qn1/3/1.Cu_vac_in_ZnS.scf.qn1.unrlxd.U3.out:!    total energy              =  -10100.07628573 Ry\n",
    "qn1/4/1.Cu_vac_in_ZnS.scf.qn1.unrlxd.U4.out:!    total energy              =  -10100.07212553 Ry\n",
    "qn1/5/1.Cu_vac_in_ZnS.scf.qn1.unrlxd.U5.out:!    total energy              =  -10100.06831435 Ry\n",
    "qn1/6/1.Cu_vac_in_ZnS.scf.qn1.unrlxd.U6.out:!    total energy              =  -10100.06481044 Ry\n",
    "qn1/7/1.Cu_vac_in_ZnS.scf.qn1.unrlxd.U7.out:!    total energy              =  -10100.06157804 Ry\n",
    "qn1/8/1.Cu_vac_in_ZnS.scf.qn1.unrlxd.U8.out:!    total energy              =  -10100.05858640 Ry\n",
    "qp1/2/1.Cu_vac_in_ZnS.scf.qp1.unrlxd.U2.out:!    total energy              =  -10101.02905622 Ry\n",
    "qp1/3/1.Cu_vac_in_ZnS.scf.qp1.unrlxd.U3.out:!    total energy              =  -10101.02338618 Ry\n",
    "qp1/4/1.Cu_vac_in_ZnS.scf.qp1.unrlxd.U4.out:!    total energy              =  -10101.01836362 Ry\n",
    "qp1/5/1.Cu_vac_in_ZnS.scf.qp1.unrlxd.U5.out:!    total energy              =  -10101.01388090 Ry\n",
    "qp1/6/1.Cu_vac_in_ZnS.scf.qp1.unrlxd.U6.out:!    total energy              =  -10101.00984920 Ry\n",
    "qp1/7/1.Cu_vac_in_ZnS.scf.qp1.unrlxd.U7.out:!    total energy              =  -10101.00619706 Ry\n",
    "qp1/8/1.Cu_vac_in_ZnS.scf.qp1.unrlxd.U8.out:!    total energy              =  -10101.00286742 Ry\n",
    "\"\"\"\n",
    "\n",
    "# Initialize dictionary\n",
    "E_defect = {U: [0, 0, 0] for U in range(2, 9)}\n",
    "\n",
    "# Extract energies\n",
    "pattern = r\"q(?P<charge>n?\\d)/(?P<U>\\d+)/.*?total energy\\s+=\\s+(?P<energy>-?\\d+\\.\\d+) Ry\"\n",
    "matches = re.finditer(pattern, data)\n",
    "\n",
    "# Assign energies to the dictionary\n",
    "for match in matches:\n",
    "    charge = int(match.group(\"charge\").replace('n', '-'))\n",
    "    U = int(match.group(\"U\"))\n",
    "    energy = float(match.group(\"energy\"))\n",
    "    E_defect[U][charge+1] = energy * eV  # Convert to eV\n",
    "\n",
    "print(E_defect)\n"
   ]
  },
  {
   "cell_type": "code",
   "execution_count": null,
   "metadata": {},
   "outputs": [],
   "source": []
  }
 ],
 "metadata": {
  "kernelspec": {
   "display_name": "Python 3",
   "language": "python",
   "name": "python3"
  },
  "language_info": {
   "codemirror_mode": {
    "name": "ipython",
    "version": 3
   },
   "file_extension": ".py",
   "mimetype": "text/x-python",
   "name": "python",
   "nbconvert_exporter": "python",
   "pygments_lexer": "ipython3",
   "version": "3.10.12"
  }
 },
 "nbformat": 4,
 "nbformat_minor": 2
}
