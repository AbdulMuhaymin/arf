{
 "cells": [
  {
   "cell_type": "code",
   "execution_count": 1,
   "metadata": {},
   "outputs": [],
   "source": [
    "import matplotlib.pyplot as plt\n",
    "from matplotlib import rcParamsDefault\n",
    "import numpy as np\n",
    "%matplotlib inline\n",
    "\n",
    "# load data\n",
    "ws = 1\n",
    "def data_loader(fname):\n",
    "\n",
    "    data = np.loadtxt(fname, skiprows=1, dtype='float')\n",
    "\n",
    "    energy =  data[:,0]#data[int(ws/2)-1:int(-1*ws/2),0]\n",
    "\n",
    "    pdos_up = []\n",
    "    pdos_dw = []\n",
    "    arr_up = data[:,1]\n",
    "    arr_dw = data[:,2]\n",
    "    i = 0\n",
    "    while i < len(arr_up)-ws + 1:\n",
    "        window = arr_up[i : i + ws]\n",
    "        avg = sum(window)/ws\n",
    "        pdos_up.append(avg)\n",
    "        i += 1\n",
    "    i = 0\n",
    "    while i < len(arr_dw)-ws + 1:\n",
    "        window = arr_dw[i : i + ws]\n",
    "        avg = sum(window)/ws\n",
    "        pdos_dw.append(-1*avg)\n",
    "        i += 1\n",
    "\n",
    "    return energy, pdos_up, pdos_dw\n",
    "def plot_pdos(isRelaxed, qval):\n",
    "    if isRelaxed:\n",
    "        fnameprefix = f\"relaxed/{qval}/6.pdos_files\"\n",
    "    else:\n",
    "        fnameprefix = f\"unrelaxed/{qval}/6.pdos_files\"\n",
    "    energy, pdos_Cu_3d_up, pdos_Cu_3d_dw = data_loader(f'{fnameprefix}/Cu_3d.pdos')\n",
    "    _, pdos_S_up, pdos_S_dw = data_loader(f'{fnameprefix}/S.pdos')\n",
    "    _, pdos_Zn_up, pdos_Zn_dw = data_loader(f'{fnameprefix}/Zn.pdos')\n",
    "    _, pdos_tot_up, pdos_tot_dw = data_loader(f'{fnameprefix}/Cu_vac_in_ZnS.q0.pdos_tot')\n",
    "\n",
    "    fermi = 5.5452\n",
    "    my_dpi=99\n",
    "    fig,ax = plt.subplots(figsize=(777/my_dpi,657/my_dpi), dpi=my_dpi)\n",
    "\n",
    "    # plot data\n",
    "    ax.plot(energy - fermi, pdos_S_up, linewidth=1, color='#006699', label='S')\n",
    "    ax.plot(energy - fermi, pdos_S_dw, linewidth=1, color='#006699')\n",
    "\n",
    "    ax.plot(energy - fermi, pdos_Zn_up, linewidth=1, color='g', label='Zn')\n",
    "    ax.plot(energy - fermi, pdos_Zn_dw, linewidth=1, color='g')\n",
    "\n",
    "    ax.plot(energy - fermi, pdos_Cu_3d_up, linewidth=1, color='r', label='Cu-3d')\n",
    "    ax.plot(energy - fermi, pdos_Cu_3d_dw, linewidth=1, color='r')\n",
    "\n",
    "    ax.plot(energy - fermi, pdos_tot_up, linewidth=1, color='k', label='total')\n",
    "    ax.plot(energy - fermi, pdos_tot_dw, linewidth=1, color='k')\n",
    "    ax.set_xlabel('Energy (eV)')\n",
    "    ax.set_ylabel('DOS')\n",
    "    ax.axvline(x=0, linewidth=0.5, color='k', linestyle=(0, (8, 10)))\n",
    "    ax.fill_between(energy - fermi, 0, pdos_S_up, where=(energy - fermi < 0), facecolor='#006699', alpha=0.25)\n",
    "    ax.fill_between(energy - fermi, 0, pdos_S_dw, where=(energy - fermi < 0), facecolor='#006699', alpha=0.25)\n",
    "    ax.fill_between(energy - fermi, 0, pdos_Zn_up, where=(energy - fermi < 0), facecolor='g', alpha=0.25)\n",
    "    ax.fill_between(energy - fermi, 0, pdos_Zn_dw, where=(energy - fermi < 0), facecolor='g', alpha=0.25)\n",
    "    ax.fill_between(energy - fermi, 0, pdos_Cu_3d_up, where=(energy - fermi < 0), facecolor='r', alpha=0.25)\n",
    "    ax.fill_between(energy - fermi, 0, pdos_Cu_3d_dw, where=(energy - fermi < 0), facecolor='r', alpha=0.25)\n",
    "    ax.fill_between(energy - fermi, 0, pdos_tot_up, where=(energy - fermi < 0), facecolor='k', alpha=0.25)\n",
    "    ax.fill_between(energy - fermi, 0, pdos_tot_dw, where=(energy - fermi < 0), facecolor='k', alpha=0.25)\n",
    "    ax.legend(frameon=False)\n",
    "    ax.set_xticks(np.arange(-12,6,1))\n",
    "\n",
    "    # adjust subplot layout\n",
    "    plt.subplots_adjust(hspace=0.4)\n",
    "    plt.xlim(-2, 4)\n",
    "    plt.ylim(-50, 50)\n",
    "    # set the overall title\n",
    "    plt.suptitle(f\"Projected DOS for Cu-vacancy in ZnS (q=0)\")\n",
    "    plt.tight_layout()\n",
    "    # show the plot\n",
    "    plt.show()"
   ]
  },
  {
   "cell_type": "code",
   "execution_count": 2,
   "metadata": {},
   "outputs": [
    {
     "ename": "FileNotFoundError",
     "evalue": "relaxed/q0/6.pdos_files/Cu_3d.pdos not found.",
     "output_type": "error",
     "traceback": [
      "\u001b[0;31m---------------------------------------------------------------------------\u001b[0m",
      "\u001b[0;31mFileNotFoundError\u001b[0m                         Traceback (most recent call last)",
      "Cell \u001b[0;32mIn[2], line 1\u001b[0m\n\u001b[0;32m----> 1\u001b[0m \u001b[43mplot_pdos\u001b[49m\u001b[43m(\u001b[49m\u001b[38;5;28;43;01mTrue\u001b[39;49;00m\u001b[43m,\u001b[49m\u001b[43m \u001b[49m\u001b[38;5;124;43m\"\u001b[39;49m\u001b[38;5;124;43mq0\u001b[39;49m\u001b[38;5;124;43m\"\u001b[39;49m\u001b[43m)\u001b[49m\n",
      "Cell \u001b[0;32mIn[1], line 37\u001b[0m, in \u001b[0;36mplot_pdos\u001b[0;34m(isRelaxed, qval)\u001b[0m\n\u001b[1;32m     35\u001b[0m \u001b[38;5;28;01melse\u001b[39;00m:\n\u001b[1;32m     36\u001b[0m     fnameprefix \u001b[38;5;241m=\u001b[39m \u001b[38;5;124mf\u001b[39m\u001b[38;5;124m\"\u001b[39m\u001b[38;5;124munrelaxed/\u001b[39m\u001b[38;5;132;01m{\u001b[39;00mqval\u001b[38;5;132;01m}\u001b[39;00m\u001b[38;5;124m/6.pdos_files\u001b[39m\u001b[38;5;124m\"\u001b[39m\n\u001b[0;32m---> 37\u001b[0m energy, pdos_Cu_3d_up, pdos_Cu_3d_dw \u001b[38;5;241m=\u001b[39m \u001b[43mdata_loader\u001b[49m\u001b[43m(\u001b[49m\u001b[38;5;124;43mf\u001b[39;49m\u001b[38;5;124;43m'\u001b[39;49m\u001b[38;5;132;43;01m{\u001b[39;49;00m\u001b[43mfnameprefix\u001b[49m\u001b[38;5;132;43;01m}\u001b[39;49;00m\u001b[38;5;124;43m/Cu_3d.pdos\u001b[39;49m\u001b[38;5;124;43m'\u001b[39;49m\u001b[43m)\u001b[49m\n\u001b[1;32m     38\u001b[0m _, pdos_S_up, pdos_S_dw \u001b[38;5;241m=\u001b[39m data_loader(\u001b[38;5;124mf\u001b[39m\u001b[38;5;124m'\u001b[39m\u001b[38;5;132;01m{\u001b[39;00mfnameprefix\u001b[38;5;132;01m}\u001b[39;00m\u001b[38;5;124m/S.pdos\u001b[39m\u001b[38;5;124m'\u001b[39m)\n\u001b[1;32m     39\u001b[0m _, pdos_Zn_up, pdos_Zn_dw \u001b[38;5;241m=\u001b[39m data_loader(\u001b[38;5;124mf\u001b[39m\u001b[38;5;124m'\u001b[39m\u001b[38;5;132;01m{\u001b[39;00mfnameprefix\u001b[38;5;132;01m}\u001b[39;00m\u001b[38;5;124m/Zn.pdos\u001b[39m\u001b[38;5;124m'\u001b[39m)\n",
      "Cell \u001b[0;32mIn[1], line 10\u001b[0m, in \u001b[0;36mdata_loader\u001b[0;34m(fname)\u001b[0m\n\u001b[1;32m      8\u001b[0m \u001b[38;5;28;01mdef\u001b[39;00m \u001b[38;5;21mdata_loader\u001b[39m(fname):\n\u001b[0;32m---> 10\u001b[0m     data \u001b[38;5;241m=\u001b[39m \u001b[43mnp\u001b[49m\u001b[38;5;241;43m.\u001b[39;49m\u001b[43mloadtxt\u001b[49m\u001b[43m(\u001b[49m\u001b[43mfname\u001b[49m\u001b[43m,\u001b[49m\u001b[43m \u001b[49m\u001b[43mskiprows\u001b[49m\u001b[38;5;241;43m=\u001b[39;49m\u001b[38;5;241;43m1\u001b[39;49m\u001b[43m,\u001b[49m\u001b[43m \u001b[49m\u001b[43mdtype\u001b[49m\u001b[38;5;241;43m=\u001b[39;49m\u001b[38;5;124;43m'\u001b[39;49m\u001b[38;5;124;43mfloat\u001b[39;49m\u001b[38;5;124;43m'\u001b[39;49m\u001b[43m)\u001b[49m\n\u001b[1;32m     12\u001b[0m     energy \u001b[38;5;241m=\u001b[39m  data[:,\u001b[38;5;241m0\u001b[39m]\u001b[38;5;66;03m#data[int(ws/2)-1:int(-1*ws/2),0]\u001b[39;00m\n\u001b[1;32m     14\u001b[0m     pdos_up \u001b[38;5;241m=\u001b[39m []\n",
      "File \u001b[0;32m~/.local/lib/python3.10/site-packages/numpy/lib/npyio.py:1373\u001b[0m, in \u001b[0;36mloadtxt\u001b[0;34m(fname, dtype, comments, delimiter, converters, skiprows, usecols, unpack, ndmin, encoding, max_rows, quotechar, like)\u001b[0m\n\u001b[1;32m   1370\u001b[0m \u001b[38;5;28;01mif\u001b[39;00m \u001b[38;5;28misinstance\u001b[39m(delimiter, \u001b[38;5;28mbytes\u001b[39m):\n\u001b[1;32m   1371\u001b[0m     delimiter \u001b[38;5;241m=\u001b[39m delimiter\u001b[38;5;241m.\u001b[39mdecode(\u001b[38;5;124m'\u001b[39m\u001b[38;5;124mlatin1\u001b[39m\u001b[38;5;124m'\u001b[39m)\n\u001b[0;32m-> 1373\u001b[0m arr \u001b[38;5;241m=\u001b[39m \u001b[43m_read\u001b[49m\u001b[43m(\u001b[49m\u001b[43mfname\u001b[49m\u001b[43m,\u001b[49m\u001b[43m \u001b[49m\u001b[43mdtype\u001b[49m\u001b[38;5;241;43m=\u001b[39;49m\u001b[43mdtype\u001b[49m\u001b[43m,\u001b[49m\u001b[43m \u001b[49m\u001b[43mcomment\u001b[49m\u001b[38;5;241;43m=\u001b[39;49m\u001b[43mcomment\u001b[49m\u001b[43m,\u001b[49m\u001b[43m \u001b[49m\u001b[43mdelimiter\u001b[49m\u001b[38;5;241;43m=\u001b[39;49m\u001b[43mdelimiter\u001b[49m\u001b[43m,\u001b[49m\n\u001b[1;32m   1374\u001b[0m \u001b[43m            \u001b[49m\u001b[43mconverters\u001b[49m\u001b[38;5;241;43m=\u001b[39;49m\u001b[43mconverters\u001b[49m\u001b[43m,\u001b[49m\u001b[43m \u001b[49m\u001b[43mskiplines\u001b[49m\u001b[38;5;241;43m=\u001b[39;49m\u001b[43mskiprows\u001b[49m\u001b[43m,\u001b[49m\u001b[43m \u001b[49m\u001b[43musecols\u001b[49m\u001b[38;5;241;43m=\u001b[39;49m\u001b[43musecols\u001b[49m\u001b[43m,\u001b[49m\n\u001b[1;32m   1375\u001b[0m \u001b[43m            \u001b[49m\u001b[43munpack\u001b[49m\u001b[38;5;241;43m=\u001b[39;49m\u001b[43munpack\u001b[49m\u001b[43m,\u001b[49m\u001b[43m \u001b[49m\u001b[43mndmin\u001b[49m\u001b[38;5;241;43m=\u001b[39;49m\u001b[43mndmin\u001b[49m\u001b[43m,\u001b[49m\u001b[43m \u001b[49m\u001b[43mencoding\u001b[49m\u001b[38;5;241;43m=\u001b[39;49m\u001b[43mencoding\u001b[49m\u001b[43m,\u001b[49m\n\u001b[1;32m   1376\u001b[0m \u001b[43m            \u001b[49m\u001b[43mmax_rows\u001b[49m\u001b[38;5;241;43m=\u001b[39;49m\u001b[43mmax_rows\u001b[49m\u001b[43m,\u001b[49m\u001b[43m \u001b[49m\u001b[43mquote\u001b[49m\u001b[38;5;241;43m=\u001b[39;49m\u001b[43mquotechar\u001b[49m\u001b[43m)\u001b[49m\n\u001b[1;32m   1378\u001b[0m \u001b[38;5;28;01mreturn\u001b[39;00m arr\n",
      "File \u001b[0;32m~/.local/lib/python3.10/site-packages/numpy/lib/npyio.py:992\u001b[0m, in \u001b[0;36m_read\u001b[0;34m(fname, delimiter, comment, quote, imaginary_unit, usecols, skiplines, max_rows, converters, ndmin, unpack, dtype, encoding)\u001b[0m\n\u001b[1;32m    990\u001b[0m     fname \u001b[38;5;241m=\u001b[39m os\u001b[38;5;241m.\u001b[39mfspath(fname)\n\u001b[1;32m    991\u001b[0m \u001b[38;5;28;01mif\u001b[39;00m \u001b[38;5;28misinstance\u001b[39m(fname, \u001b[38;5;28mstr\u001b[39m):\n\u001b[0;32m--> 992\u001b[0m     fh \u001b[38;5;241m=\u001b[39m \u001b[43mnp\u001b[49m\u001b[38;5;241;43m.\u001b[39;49m\u001b[43mlib\u001b[49m\u001b[38;5;241;43m.\u001b[39;49m\u001b[43m_datasource\u001b[49m\u001b[38;5;241;43m.\u001b[39;49m\u001b[43mopen\u001b[49m\u001b[43m(\u001b[49m\u001b[43mfname\u001b[49m\u001b[43m,\u001b[49m\u001b[43m \u001b[49m\u001b[38;5;124;43m'\u001b[39;49m\u001b[38;5;124;43mrt\u001b[39;49m\u001b[38;5;124;43m'\u001b[39;49m\u001b[43m,\u001b[49m\u001b[43m \u001b[49m\u001b[43mencoding\u001b[49m\u001b[38;5;241;43m=\u001b[39;49m\u001b[43mencoding\u001b[49m\u001b[43m)\u001b[49m\n\u001b[1;32m    993\u001b[0m     \u001b[38;5;28;01mif\u001b[39;00m encoding \u001b[38;5;129;01mis\u001b[39;00m \u001b[38;5;28;01mNone\u001b[39;00m:\n\u001b[1;32m    994\u001b[0m         encoding \u001b[38;5;241m=\u001b[39m \u001b[38;5;28mgetattr\u001b[39m(fh, \u001b[38;5;124m'\u001b[39m\u001b[38;5;124mencoding\u001b[39m\u001b[38;5;124m'\u001b[39m, \u001b[38;5;124m'\u001b[39m\u001b[38;5;124mlatin1\u001b[39m\u001b[38;5;124m'\u001b[39m)\n",
      "File \u001b[0;32m~/.local/lib/python3.10/site-packages/numpy/lib/_datasource.py:193\u001b[0m, in \u001b[0;36mopen\u001b[0;34m(path, mode, destpath, encoding, newline)\u001b[0m\n\u001b[1;32m    156\u001b[0m \u001b[38;5;250m\u001b[39m\u001b[38;5;124;03m\"\"\"\u001b[39;00m\n\u001b[1;32m    157\u001b[0m \u001b[38;5;124;03mOpen `path` with `mode` and return the file object.\u001b[39;00m\n\u001b[1;32m    158\u001b[0m \n\u001b[0;32m   (...)\u001b[0m\n\u001b[1;32m    189\u001b[0m \n\u001b[1;32m    190\u001b[0m \u001b[38;5;124;03m\"\"\"\u001b[39;00m\n\u001b[1;32m    192\u001b[0m ds \u001b[38;5;241m=\u001b[39m DataSource(destpath)\n\u001b[0;32m--> 193\u001b[0m \u001b[38;5;28;01mreturn\u001b[39;00m \u001b[43mds\u001b[49m\u001b[38;5;241;43m.\u001b[39;49m\u001b[43mopen\u001b[49m\u001b[43m(\u001b[49m\u001b[43mpath\u001b[49m\u001b[43m,\u001b[49m\u001b[43m \u001b[49m\u001b[43mmode\u001b[49m\u001b[43m,\u001b[49m\u001b[43m \u001b[49m\u001b[43mencoding\u001b[49m\u001b[38;5;241;43m=\u001b[39;49m\u001b[43mencoding\u001b[49m\u001b[43m,\u001b[49m\u001b[43m \u001b[49m\u001b[43mnewline\u001b[49m\u001b[38;5;241;43m=\u001b[39;49m\u001b[43mnewline\u001b[49m\u001b[43m)\u001b[49m\n",
      "File \u001b[0;32m~/.local/lib/python3.10/site-packages/numpy/lib/_datasource.py:533\u001b[0m, in \u001b[0;36mDataSource.open\u001b[0;34m(self, path, mode, encoding, newline)\u001b[0m\n\u001b[1;32m    530\u001b[0m     \u001b[38;5;28;01mreturn\u001b[39;00m _file_openers[ext](found, mode\u001b[38;5;241m=\u001b[39mmode,\n\u001b[1;32m    531\u001b[0m                               encoding\u001b[38;5;241m=\u001b[39mencoding, newline\u001b[38;5;241m=\u001b[39mnewline)\n\u001b[1;32m    532\u001b[0m \u001b[38;5;28;01melse\u001b[39;00m:\n\u001b[0;32m--> 533\u001b[0m     \u001b[38;5;28;01mraise\u001b[39;00m \u001b[38;5;167;01mFileNotFoundError\u001b[39;00m(\u001b[38;5;124mf\u001b[39m\u001b[38;5;124m\"\u001b[39m\u001b[38;5;132;01m{\u001b[39;00mpath\u001b[38;5;132;01m}\u001b[39;00m\u001b[38;5;124m not found.\u001b[39m\u001b[38;5;124m\"\u001b[39m)\n",
      "\u001b[0;31mFileNotFoundError\u001b[0m: relaxed/q0/6.pdos_files/Cu_3d.pdos not found."
     ]
    }
   ],
   "source": [
    "plot_pdos(True, \"q0\")"
   ]
  },
  {
   "cell_type": "code",
   "execution_count": 5,
   "metadata": {},
   "outputs": [
    {
     "name": "stdout",
     "output_type": "stream",
     "text": [
      "ls: cannot access 'relaxed/q0/6.pdos_files': No such file or directory\n"
     ]
    }
   ],
   "source": [
    "%ls relaxed/q0/6.pdos_files"
   ]
  },
  {
   "cell_type": "code",
   "execution_count": null,
   "metadata": {},
   "outputs": [],
   "source": []
  }
 ],
 "metadata": {
  "kernelspec": {
   "display_name": "Python 3",
   "language": "python",
   "name": "python3"
  },
  "language_info": {
   "codemirror_mode": {
    "name": "ipython",
    "version": 3
   },
   "file_extension": ".py",
   "mimetype": "text/x-python",
   "name": "python",
   "nbconvert_exporter": "python",
   "pygments_lexer": "ipython3",
   "version": "3.10.12"
  }
 },
 "nbformat": 4,
 "nbformat_minor": 2
}
